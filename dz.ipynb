{
 "cells": [
  {
   "cell_type": "markdown",
   "metadata": {},
   "source": [
    "## **Домашнее задание**\n",
    "\n",
    "**Задание:**\n",
    "  \n",
    "Используя Python и PostgreSQL, выполните следующие шаги:\n",
    "\n",
    "1. **Создание и заполнение таблицы:**\n",
    "   - Подключитесь к вашей базе данных PostgreSQL (например, через библиотеку `psycopg2` или `SQLAlchemy`).\n",
    "   - Создайте таблицу с именем `apartments`, которая будет содержать 10 столбцов. Пример столбцов:\n",
    "     - `id` (SERIAL PRIMARY KEY)\n",
    "     - `city` (VARCHAR) – город\n",
    "     - `district` (VARCHAR) – район\n",
    "     - `address` (VARCHAR) – адрес\n",
    "     - `area` (NUMERIC) – площадь квартиры\n",
    "     - `rooms` (INT) – количество комнат\n",
    "     - `floor` (INT) – этаж\n",
    "     - `year_built` (INT) – год постройки\n",
    "     - `price` (NUMERIC) – стоимость квартиры\n",
    "     - `type` (VARCHAR) – тип (например, новостройка или вторичное жильё)\n",
    "     \n",
    "   - Заполните таблицу 10 строками данных, описывающими различные квартиры с их характеристиками и стоимостью.\n",
    "\n",
    "2. **Аналитический запрос с использованием pandas:**\n",
    "   - Подключитесь к базе данных через pandas (с использованием `pd.read_sql`).\n",
    "   - Выполните SQL-запрос, который выбирает квартиры с ценой ниже 5 000 000.\n",
    "   - Выведите полученные данные в виде DataFrame."
   ]
  }
 ],
 "metadata": {
  "kernelspec": {
   "display_name": "Python 3",
   "language": "python",
   "name": "python3"
  },
  "language_info": {
   "codemirror_mode": {
    "name": "ipython",
    "version": 3
   },
   "file_extension": ".py",
   "mimetype": "text/x-python",
   "name": "python",
   "nbconvert_exporter": "python",
   "pygments_lexer": "ipython3",
   "version": "3.12.8"
  }
 },
 "nbformat": 4,
 "nbformat_minor": 2
}
